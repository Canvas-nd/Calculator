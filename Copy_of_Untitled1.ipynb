{
  "nbformat": 4,
  "nbformat_minor": 0,
  "metadata": {
    "colab": {
      "name": "Copy of Untitled1.ipynb",
      "provenance": [],
      "collapsed_sections": [],
      "authorship_tag": "ABX9TyMggmm3C1r0TSyZWHwkoolM",
      "include_colab_link": true
    },
    "kernelspec": {
      "name": "python3",
      "display_name": "Python 3"
    }
  },
  "cells": [
    {
      "cell_type": "markdown",
      "metadata": {
        "id": "view-in-github",
        "colab_type": "text"
      },
      "source": [
        "<a href=\"https://colab.research.google.com/github/Canvas-nd/Calculator/blob/master/Copy_of_Untitled1.ipynb\" target=\"_parent\"><img src=\"https://colab.research.google.com/assets/colab-badge.svg\" alt=\"Open In Colab\"/></a>"
      ]
    },
    {
      "cell_type": "code",
      "metadata": {
        "id": "c0qSZAc70s8c",
        "colab_type": "code",
        "colab": {
          "base_uri": "https://localhost:8080/",
          "height": 202
        },
        "outputId": "da0ddf5e-e360-40d2-f9a9-7f774c484491"
      },
      "source": [
        "df[df.TEMPERATURE >= \"32\"]   # 32 inside the quote as its typecast int -> str."
      ],
      "execution_count": null,
      "outputs": [
        {
          "output_type": "execute_result",
          "data": {
            "text/html": [
              "<div>\n",
              "<style scoped>\n",
              "    .dataframe tbody tr th:only-of-type {\n",
              "        vertical-align: middle;\n",
              "    }\n",
              "\n",
              "    .dataframe tbody tr th {\n",
              "        vertical-align: top;\n",
              "    }\n",
              "\n",
              "    .dataframe thead th {\n",
              "        text-align: right;\n",
              "    }\n",
              "</style>\n",
              "<table border=\"1\" class=\"dataframe\">\n",
              "  <thead>\n",
              "    <tr style=\"text-align: right;\">\n",
              "      <th></th>\n",
              "      <th>PLACE</th>\n",
              "      <th>MONTH</th>\n",
              "      <th>TEMPERATURE</th>\n",
              "    </tr>\n",
              "  </thead>\n",
              "  <tbody>\n",
              "    <tr>\n",
              "      <th>0</th>\n",
              "      <td>Gangtok</td>\n",
              "      <td>jan</td>\n",
              "      <td>32</td>\n",
              "    </tr>\n",
              "    <tr>\n",
              "      <th>1</th>\n",
              "      <td>Kolkata</td>\n",
              "      <td>sept</td>\n",
              "      <td>52</td>\n",
              "    </tr>\n",
              "    <tr>\n",
              "      <th>3</th>\n",
              "      <td>Karnataka</td>\n",
              "      <td>feb</td>\n",
              "      <td>32</td>\n",
              "    </tr>\n",
              "    <tr>\n",
              "      <th>6</th>\n",
              "      <td>Gujrat</td>\n",
              "      <td>june</td>\n",
              "      <td>32</td>\n",
              "    </tr>\n",
              "    <tr>\n",
              "      <th>7</th>\n",
              "      <td>Ódissa</td>\n",
              "      <td>dec</td>\n",
              "      <td>40</td>\n",
              "    </tr>\n",
              "  </tbody>\n",
              "</table>\n",
              "</div>"
            ],
            "text/plain": [
              "       PLACE MONTH TEMPERATURE\n",
              "0    Gangtok   jan          32\n",
              "1    Kolkata  sept          52\n",
              "3  Karnataka   feb          32\n",
              "6     Gujrat  june          32\n",
              "7     Ódissa   dec          40"
            ]
          },
          "metadata": {
            "tags": []
          },
          "execution_count": 32
        }
      ]
    },
    {
      "cell_type": "code",
      "metadata": {
        "id": "o_GhHtrr0J2B",
        "colab_type": "code",
        "colab": {
          "base_uri": "https://localhost:8080/",
          "height": 35
        },
        "outputId": "31b3ce6b-bd53-482c-966f-e5cc6d510354"
      },
      "source": [
        "df[\"TEMPERATURE\"].max()"
      ],
      "execution_count": null,
      "outputs": [
        {
          "output_type": "execute_result",
          "data": {
            "application/vnd.google.colaboratory.intrinsic+json": {
              "type": "string"
            },
            "text/plain": [
              "'52'"
            ]
          },
          "metadata": {
            "tags": []
          },
          "execution_count": 22
        }
      ]
    },
    {
      "cell_type": "code",
      "metadata": {
        "id": "7khWL4ouzVD5",
        "colab_type": "code",
        "colab": {
          "base_uri": "https://localhost:8080/",
          "height": 208
        },
        "outputId": "8dba5117-0702-46ba-ba07-e8babd5818ba"
      },
      "source": [
        "df.PLACE"
      ],
      "execution_count": null,
      "outputs": [
        {
          "output_type": "execute_result",
          "data": {
            "text/plain": [
              "0      Gangtok\n",
              "1      Kolkata\n",
              "2        Delhi\n",
              "3    Karnataka\n",
              "4          Goa\n",
              "5       Punjab\n",
              "6       Gujrat\n",
              "7       Ódissa\n",
              "8       Sikkim\n",
              "9       Jaipur\n",
              "Name: PLACE, dtype: object"
            ]
          },
          "metadata": {
            "tags": []
          },
          "execution_count": 17
        }
      ]
    },
    {
      "cell_type": "code",
      "metadata": {
        "id": "mi8cZPvuzDVC",
        "colab_type": "code",
        "colab": {
          "base_uri": "https://localhost:8080/",
          "height": 171
        },
        "outputId": "1f189018-e550-492f-a2f1-058839501fbb"
      },
      "source": [
        "df.tail(4)"
      ],
      "execution_count": null,
      "outputs": [
        {
          "output_type": "execute_result",
          "data": {
            "text/html": [
              "<div>\n",
              "<style scoped>\n",
              "    .dataframe tbody tr th:only-of-type {\n",
              "        vertical-align: middle;\n",
              "    }\n",
              "\n",
              "    .dataframe tbody tr th {\n",
              "        vertical-align: top;\n",
              "    }\n",
              "\n",
              "    .dataframe thead th {\n",
              "        text-align: right;\n",
              "    }\n",
              "</style>\n",
              "<table border=\"1\" class=\"dataframe\">\n",
              "  <thead>\n",
              "    <tr style=\"text-align: right;\">\n",
              "      <th></th>\n",
              "      <th>PLACE</th>\n",
              "      <th>MONTH</th>\n",
              "      <th>TEMPERATURE</th>\n",
              "    </tr>\n",
              "  </thead>\n",
              "  <tbody>\n",
              "    <tr>\n",
              "      <th>6</th>\n",
              "      <td>Gujrat</td>\n",
              "      <td>june</td>\n",
              "      <td>32</td>\n",
              "    </tr>\n",
              "    <tr>\n",
              "      <th>7</th>\n",
              "      <td>Ódissa</td>\n",
              "      <td>dec</td>\n",
              "      <td>40</td>\n",
              "    </tr>\n",
              "    <tr>\n",
              "      <th>8</th>\n",
              "      <td>Sikkim</td>\n",
              "      <td>jan</td>\n",
              "      <td>15</td>\n",
              "    </tr>\n",
              "    <tr>\n",
              "      <th>9</th>\n",
              "      <td>Jaipur</td>\n",
              "      <td>july</td>\n",
              "      <td>20</td>\n",
              "    </tr>\n",
              "  </tbody>\n",
              "</table>\n",
              "</div>"
            ],
            "text/plain": [
              "    PLACE MONTH TEMPERATURE\n",
              "6  Gujrat  june          32\n",
              "7  Ódissa   dec          40\n",
              "8  Sikkim   jan          15\n",
              "9  Jaipur  july          20"
            ]
          },
          "metadata": {
            "tags": []
          },
          "execution_count": 14
        }
      ]
    },
    {
      "cell_type": "code",
      "metadata": {
        "id": "ZiCVtLIMxdsg",
        "colab_type": "code",
        "colab": {
          "base_uri": "https://localhost:8080/",
          "height": 35
        },
        "outputId": "b06deaa5-d3b4-4352-b13b-4ea54b84f1f8"
      },
      "source": [
        "row,col =  df.shape\n",
        "col"
      ],
      "execution_count": null,
      "outputs": [
        {
          "output_type": "execute_result",
          "data": {
            "text/plain": [
              "3"
            ]
          },
          "metadata": {
            "tags": []
          },
          "execution_count": 13
        }
      ]
    },
    {
      "cell_type": "code",
      "metadata": {
        "id": "IYg0DH2uxMjS",
        "colab_type": "code",
        "colab": {
          "base_uri": "https://localhost:8080/",
          "height": 35
        },
        "outputId": "b4e9d2f1-a267-45fd-f2c4-fdd6be587cce"
      },
      "source": [
        "print(df.shape)"
      ],
      "execution_count": null,
      "outputs": [
        {
          "output_type": "stream",
          "text": [
            "(10, 3)\n"
          ],
          "name": "stdout"
        }
      ]
    },
    {
      "cell_type": "code",
      "metadata": {
        "id": "n5clQ-amwgj4",
        "colab_type": "code",
        "colab": {
          "base_uri": "https://localhost:8080/",
          "height": 69
        },
        "outputId": "e19a5db1-9df8-4e93-f8a0-5629784a69af"
      },
      "source": [
        "fruits = [\"apple\", \"banana\", \"cherry\"]\n",
        "for x in fruits:\n",
        "  print(x)\n",
        "  \n"
      ],
      "execution_count": null,
      "outputs": [
        {
          "output_type": "stream",
          "text": [
            "apple\n",
            "banana\n",
            "cherry\n"
          ],
          "name": "stdout"
        }
      ]
    },
    {
      "cell_type": "code",
      "metadata": {
        "id": "Qx3Uuboe9DZp",
        "colab_type": "code",
        "colab": {
          "base_uri": "https://localhost:8080/",
          "height": 279
        },
        "outputId": "5423aa6a-02e8-4885-be6d-12dc8e1b6c63"
      },
      "source": [
        "import matplotlib.pyplot as plt\n",
        "from pylab import randn\n",
        "X = randn(100)\n",
        "Y = randn(100)\n",
        "plt.scatter(X,Y, color='deeppink')\n",
        "plt.xlabel(\"X\")\n",
        "plt.ylabel(\"Y\")\n",
        "plt.show()\n"
      ],
      "execution_count": null,
      "outputs": [
        {
          "output_type": "display_data",
          "data": {
            "image/png": "[encoded data removed]",
            "text/plain": [
              "<Figure size 432x288 with 1 Axes>"
            ]
          },
          "metadata": {
            "tags": [],
            "needs_background": "light"
          }
        }
      ]
    },
    {
      "cell_type": "markdown",
      "metadata": {
        "id": "9pl4b8_lYtX9",
        "colab_type": "text"
      },
      "source": [
        "************************  * ************************ **DATA FRAMES USING DICTIONARY* ***"
      ]
    },
    {
      "cell_type": "code",
      "metadata": {
        "id": "TlB0jHDCgy4E",
        "colab_type": "code",
        "colab": {
          "base_uri": "https://localhost:8080/",
          "height": 355
        },
        "outputId": "0142a2f0-7ee1-47f9-bb1d-d107c3f6dbbd"
      },
      "source": [
        "import pandas as pd\n",
        "weatherdata = {\n",
        "    \"PLACE\" : ['Gangtok','Kolkata','Delhi','Karnataka','Goa','Punjab','Gujrat','Ódissa','Sikkim',\"Jaipur\"],\n",
        "    \"MONTH\" : [\"jan\",'sept','áug','feb','ápril','march','june','dec','jan','july'],\n",
        "    \"TEMPERATURE\" : ['32','52','20','32','12','21','32','40','15','20'],\n",
        "    \"POPULATION\" : [\"30000\",\"19080\",\"13456\",\"345\",\"24540\",\"890000\",\"12345\",\"700000\",\"67000\",\"21000\"]\n",
        "   \n",
        "}\n",
        "df = pd.DataFrame(weatherdata)\n",
        "df\n",
        "# for deleting certain column\n",
        "# df.pop(\"MONTH\")\n"
      ],
      "execution_count": null,
      "outputs": [
        {
          "output_type": "execute_result",
          "data": {
            "text/html": [
              "<div>\n",
              "<style scoped>\n",
              "    .dataframe tbody tr th:only-of-type {\n",
              "        vertical-align: middle;\n",
              "    }\n",
              "\n",
              "    .dataframe tbody tr th {\n",
              "        vertical-align: top;\n",
              "    }\n",
              "\n",
              "    .dataframe thead th {\n",
              "        text-align: right;\n",
              "    }\n",
              "</style>\n",
              "<table border=\"1\" class=\"dataframe\">\n",
              "  <thead>\n",
              "    <tr style=\"text-align: right;\">\n",
              "      <th></th>\n",
              "      <th>PLACE</th>\n",
              "      <th>MONTH</th>\n",
              "      <th>TEMPERATURE</th>\n",
              "      <th>POPULATION</th>\n",
              "    </tr>\n",
              "  </thead>\n",
              "  <tbody>\n",
              "    <tr>\n",
              "      <th>0</th>\n",
              "      <td>Gangtok</td>\n",
              "      <td>jan</td>\n",
              "      <td>32</td>\n",
              "      <td>30000</td>\n",
              "    </tr>\n",
              "    <tr>\n",
              "      <th>1</th>\n",
              "      <td>Kolkata</td>\n",
              "      <td>sept</td>\n",
              "      <td>52</td>\n",
              "      <td>19080</td>\n",
              "    </tr>\n",
              "    <tr>\n",
              "      <th>2</th>\n",
              "      <td>Delhi</td>\n",
              "      <td>áug</td>\n",
              "      <td>20</td>\n",
              "      <td>13456</td>\n",
              "    </tr>\n",
              "    <tr>\n",
              "      <th>3</th>\n",
              "      <td>Karnataka</td>\n",
              "      <td>feb</td>\n",
              "      <td>32</td>\n",
              "      <td>345</td>\n",
              "    </tr>\n",
              "    <tr>\n",
              "      <th>4</th>\n",
              "      <td>Goa</td>\n",
              "      <td>ápril</td>\n",
              "      <td>12</td>\n",
              "      <td>24540</td>\n",
              "    </tr>\n",
              "    <tr>\n",
              "      <th>5</th>\n",
              "      <td>Punjab</td>\n",
              "      <td>march</td>\n",
              "      <td>21</td>\n",
              "      <td>890000</td>\n",
              "    </tr>\n",
              "    <tr>\n",
              "      <th>6</th>\n",
              "      <td>Gujrat</td>\n",
              "      <td>june</td>\n",
              "      <td>32</td>\n",
              "      <td>12345</td>\n",
              "    </tr>\n",
              "    <tr>\n",
              "      <th>7</th>\n",
              "      <td>Ódissa</td>\n",
              "      <td>dec</td>\n",
              "      <td>40</td>\n",
              "      <td>700000</td>\n",
              "    </tr>\n",
              "    <tr>\n",
              "      <th>8</th>\n",
              "      <td>Sikkim</td>\n",
              "      <td>jan</td>\n",
              "      <td>15</td>\n",
              "      <td>67000</td>\n",
              "    </tr>\n",
              "    <tr>\n",
              "      <th>9</th>\n",
              "      <td>Jaipur</td>\n",
              "      <td>july</td>\n",
              "      <td>20</td>\n",
              "      <td>21000</td>\n",
              "    </tr>\n",
              "  </tbody>\n",
              "</table>\n",
              "</div>"
            ],
            "text/plain": [
              "       PLACE  MONTH TEMPERATURE POPULATION\n",
              "0    Gangtok    jan          32      30000\n",
              "1    Kolkata   sept          52      19080\n",
              "2      Delhi    áug          20      13456\n",
              "3  Karnataka    feb          32        345\n",
              "4        Goa  ápril          12      24540\n",
              "5     Punjab  march          21     890000\n",
              "6     Gujrat   june          32      12345\n",
              "7     Ódissa    dec          40     700000\n",
              "8     Sikkim    jan          15      67000\n",
              "9     Jaipur   july          20      21000"
            ]
          },
          "metadata": {
            "tags": []
          },
          "execution_count": 19
        }
      ]
    },
    {
      "cell_type": "code",
      "metadata": {
        "id": "a_Ks8ouW2uyv",
        "colab_type": "code",
        "colab": {
          "base_uri": "https://localhost:8080/",
          "height": 208
        },
        "outputId": "87e8ddd1-7f76-4f08-868d-98d5276cba4b"
      },
      "source": [
        "df.TEMPERATURE #df[\"TEMPERATURE\"]"
      ],
      "execution_count": null,
      "outputs": [
        {
          "output_type": "execute_result",
          "data": {
            "text/plain": [
              "0    32\n",
              "1    52\n",
              "2    20\n",
              "3    32\n",
              "4    12\n",
              "5    21\n",
              "6    32\n",
              "7    40\n",
              "8    15\n",
              "9    20\n",
              "Name: TEMPERATURE, dtype: object"
            ]
          },
          "metadata": {
            "tags": []
          },
          "execution_count": 29
        }
      ]
    },
    {
      "cell_type": "code",
      "metadata": {
        "id": "4V8POfVt2_pT",
        "colab_type": "code",
        "colab": {
          "base_uri": "https://localhost:8080/",
          "height": 171
        },
        "outputId": "6ae3f6ad-45c3-469d-825a-08d4e1db4633"
      },
      "source": [
        "df.describe()\n",
        "# df.pop(\"MONTH\")"
      ],
      "execution_count": null,
      "outputs": [
        {
          "output_type": "execute_result",
          "data": {
            "text/html": [
              "<div>\n",
              "<style scoped>\n",
              "    .dataframe tbody tr th:only-of-type {\n",
              "        vertical-align: middle;\n",
              "    }\n",
              "\n",
              "    .dataframe tbody tr th {\n",
              "        vertical-align: top;\n",
              "    }\n",
              "\n",
              "    .dataframe thead th {\n",
              "        text-align: right;\n",
              "    }\n",
              "</style>\n",
              "<table border=\"1\" class=\"dataframe\">\n",
              "  <thead>\n",
              "    <tr style=\"text-align: right;\">\n",
              "      <th></th>\n",
              "      <th>PLACE</th>\n",
              "      <th>MONTH</th>\n",
              "      <th>TEMPERATURE</th>\n",
              "      <th>POPULATION</th>\n",
              "    </tr>\n",
              "  </thead>\n",
              "  <tbody>\n",
              "    <tr>\n",
              "      <th>count</th>\n",
              "      <td>10</td>\n",
              "      <td>10</td>\n",
              "      <td>10</td>\n",
              "      <td>10</td>\n",
              "    </tr>\n",
              "    <tr>\n",
              "      <th>unique</th>\n",
              "      <td>10</td>\n",
              "      <td>9</td>\n",
              "      <td>7</td>\n",
              "      <td>10</td>\n",
              "    </tr>\n",
              "    <tr>\n",
              "      <th>top</th>\n",
              "      <td>Punjab</td>\n",
              "      <td>jan</td>\n",
              "      <td>32</td>\n",
              "      <td>67000</td>\n",
              "    </tr>\n",
              "    <tr>\n",
              "      <th>freq</th>\n",
              "      <td>1</td>\n",
              "      <td>2</td>\n",
              "      <td>3</td>\n",
              "      <td>1</td>\n",
              "    </tr>\n",
              "  </tbody>\n",
              "</table>\n",
              "</div>"
            ],
            "text/plain": [
              "         PLACE MONTH TEMPERATURE POPULATION\n",
              "count       10    10          10         10\n",
              "unique      10     9           7         10\n",
              "top     Punjab   jan          32      67000\n",
              "freq         1     2           3          1"
            ]
          },
          "metadata": {
            "tags": []
          },
          "execution_count": 33
        }
      ]
    },
    {
      "cell_type": "code",
      "metadata": {
        "id": "E8MU-53jb1As",
        "colab_type": "code",
        "colab": {
          "base_uri": "https://localhost:8080/",
          "height": 233
        },
        "outputId": "d138711b-cea1-439d-9fd8-30ab52cc0ac5"
      },
      "source": [
        "import pandas as pd\n",
        "name = [\"Bihan\",\"Niharika\",\"Subho\",\"Pinky\",\"Spongy\",\"Änkur\"]\n",
        "df = pd.DataFrame(name)  # (data = name)\n",
        "df\n",
        "df = pd.DataFrame(name , columns = [\"NAME\"] )\n",
        "df\n",
        "df = pd.DataFrame( name , index= [\"candidate-1\",\"candidate-2\",\"candidate-3\",\"candidate-4\",\"candidate-5\",\"candidate-6\",] , columns = [\"NAME\"] )\n",
        "df"
      ],
      "execution_count": null,
      "outputs": [
        {
          "output_type": "execute_result",
          "data": {
            "text/html": [
              "<div>\n",
              "<style scoped>\n",
              "    .dataframe tbody tr th:only-of-type {\n",
              "        vertical-align: middle;\n",
              "    }\n",
              "\n",
              "    .dataframe tbody tr th {\n",
              "        vertical-align: top;\n",
              "    }\n",
              "\n",
              "    .dataframe thead th {\n",
              "        text-align: right;\n",
              "    }\n",
              "</style>\n",
              "<table border=\"1\" class=\"dataframe\">\n",
              "  <thead>\n",
              "    <tr style=\"text-align: right;\">\n",
              "      <th></th>\n",
              "      <th>NAME</th>\n",
              "    </tr>\n",
              "  </thead>\n",
              "  <tbody>\n",
              "    <tr>\n",
              "      <th>candidate-1</th>\n",
              "      <td>Bihan</td>\n",
              "    </tr>\n",
              "    <tr>\n",
              "      <th>candidate-2</th>\n",
              "      <td>Niharika</td>\n",
              "    </tr>\n",
              "    <tr>\n",
              "      <th>candidate-3</th>\n",
              "      <td>Subho</td>\n",
              "    </tr>\n",
              "    <tr>\n",
              "      <th>candidate-4</th>\n",
              "      <td>Pinky</td>\n",
              "    </tr>\n",
              "    <tr>\n",
              "      <th>candidate-5</th>\n",
              "      <td>Spongy</td>\n",
              "    </tr>\n",
              "    <tr>\n",
              "      <th>candidate-6</th>\n",
              "      <td>Änkur</td>\n",
              "    </tr>\n",
              "  </tbody>\n",
              "</table>\n",
              "</div>"
            ],
            "text/plain": [
              "                 NAME\n",
              "candidate-1     Bihan\n",
              "candidate-2  Niharika\n",
              "candidate-3     Subho\n",
              "candidate-4     Pinky\n",
              "candidate-5    Spongy\n",
              "candidate-6     Änkur"
            ]
          },
          "metadata": {
            "tags": []
          },
          "execution_count": 41
        }
      ]
    },
    {
      "cell_type": "code",
      "metadata": {
        "id": "RB77-1YoL08p",
        "colab_type": "code",
        "colab": {}
      },
      "source": [
        "from sklearn import datasets\n",
        "iris = datasets.load_iris()    "
      ],
      "execution_count": null,
      "outputs": []
    },
    {
      "cell_type": "code",
      "metadata": {
        "id": "3NYduIGHMNSC",
        "colab_type": "code",
        "colab": {
          "base_uri": "https://localhost:8080/",
          "height": 260
        },
        "outputId": "e307079f-76f6-4b87-8cb5-56dbb67bdfaf"
      },
      "source": [
        "''' from sklearn import datasets\n",
        "iris = datasets.load_iris()   '''\n",
        "\n",
        "import pandas as pd\n",
        "import numpy as n\n",
        "preloaded_dataset = pd.DataFrame (data = np.c_[iris['data'], iris['target']],\n",
        "              columns = iris['feature_names'] + ['target'])\n",
        "print(preloaded_dataset.head)"
      ],
      "execution_count": null,
      "outputs": [
        {
          "output_type": "stream",
          "text": [
            "<bound method NDFrame.head of      sepal length (cm)  sepal width (cm)  ...  petal width (cm)  target\n",
            "0                  5.1               3.5  ...               0.2     0.0\n",
            "1                  4.9               3.0  ...               0.2     0.0\n",
            "2                  4.7               3.2  ...               0.2     0.0\n",
            "3                  4.6               3.1  ...               0.2     0.0\n",
            "4                  5.0               3.6  ...               0.2     0.0\n",
            "..                 ...               ...  ...               ...     ...\n",
            "145                6.7               3.0  ...               2.3     2.0\n",
            "146                6.3               2.5  ...               1.9     2.0\n",
            "147                6.5               3.0  ...               2.0     2.0\n",
            "148                6.2               3.4  ...               2.3     2.0\n",
            "149                5.9               3.0  ...               1.8     2.0\n",
            "\n",
            "[150 rows x 5 columns]>\n"
          ],
          "name": "stdout"
        }
      ]
    },
    {
      "cell_type": "code",
      "metadata": {
        "id": "WZe2XE3ubfUj",
        "colab_type": "code",
        "colab": {
          "base_uri": "https://localhost:8080/",
          "height": 104
        },
        "outputId": "ab591fca-0d3c-4979-f1d6-248d502c8dbd"
      },
      "source": [
        "list (preloaded_dataset.columns)"
      ],
      "execution_count": null,
      "outputs": [
        {
          "output_type": "execute_result",
          "data": {
            "text/plain": [
              "['sepal length (cm)',\n",
              " 'sepal width (cm)',\n",
              " 'petal length (cm)',\n",
              " 'petal width (cm)',\n",
              " 'target']"
            ]
          },
          "metadata": {
            "tags": []
          },
          "execution_count": 24
        }
      ]
    },
    {
      "cell_type": "code",
      "metadata": {
        "id": "tHHPGAC4cG3Y",
        "colab_type": "code",
        "colab": {
          "base_uri": "https://localhost:8080/",
          "height": 295
        },
        "outputId": "d6d65914-481a-4a43-ce79-ca9e5611f03b"
      },
      "source": [
        "import matplotlib.pyplot as plt\n",
        "x = [2,5,4,23,20,62,50]\n",
        "y = [20,5,65,21,13,14,91]\n",
        "plt.scatter (x,y,label = 'dots' , color = 'r')\n",
        "plt.xlabel('x-axis')\n",
        "plt.ylabel('y-axis')\n",
        "plt.title('RANDOM NO.')\n",
        "plt.legend()     # helps to put the top rgt box grid\n",
        "plt.show()       # display"
      ],
      "execution_count": null,
      "outputs": [
        {
          "output_type": "display_data",
          "data": {
            "image/png": "[encoded data removed]",
            "text/plain": [
              "<Figure size 432x288 with 1 Axes>"
            ]
          },
          "metadata": {
            "tags": [],
            "needs_background": "light"
          }
        }
      ]
    },
    {
      "cell_type": "code",
      "metadata": {
        "id": "qAdrSoMUuywP",
        "colab_type": "code",
        "colab": {
          "base_uri": "https://localhost:8080/",
          "height": 313
        },
        "outputId": "345ce850-53b3-4e63-e1ad-b6ab6a90abb5"
      },
      "source": [
        "import matplotlib.pyplot as plt\n",
        "fig, ax = plt.subplots()\n",
        "ax.scatter(preloaded_dataset['sepal length (cm)'], preloaded_dataset['sepal width (cm)'])\n",
        "ax.set_title('Iris Dataset')\n",
        "ax.set_xlabel('sepal length')\n",
        "ax.set_ylabel('sepal width')\n"
      ],
      "execution_count": null,
      "outputs": [
        {
          "output_type": "execute_result",
          "data": {
            "text/plain": [
              "Text(0, 0.5, 'sepal width')"
            ]
          },
          "metadata": {
            "tags": []
          },
          "execution_count": 29
        },
        {
          "output_type": "display_data",
          "data": {
            "image/png": "[encoded data removed]",
            "text/plain": [
              "<Figure size 432x288 with 1 Axes>"
            ]
          },
          "metadata": {
            "tags": [],
            "needs_background": "light"
          }
        }
      ]
    },
    {
      "cell_type": "code",
      "metadata": {
        "id": "ppCcwpZx1VRQ",
        "colab_type": "code",
        "colab": {}
      },
      "source": [
        ""
      ],
      "execution_count": null,
      "outputs": []
    }
  ]
}